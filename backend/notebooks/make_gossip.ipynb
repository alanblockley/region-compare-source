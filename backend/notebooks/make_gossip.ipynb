{
 "cells": [
  {
   "cell_type": "code",
   "execution_count": 1,
   "metadata": {},
   "outputs": [],
   "source": [
    "import os\n",
    "import json\n",
    "from datetime import datetime"
   ]
  },
  {
   "cell_type": "code",
   "execution_count": 4,
   "metadata": {},
   "outputs": [
    {
     "name": "stdout",
     "output_type": "stream",
     "text": [
      "['20240503202700.json', '20240502172700.json', '20240503152700.json', '20240503142700.json', '20240424002700.json', '20240506182700.json', '20240422082700.json', '20240503192700.json', '20240501022700.json', '20240426042700.json', '20240501062700.json', '20240503162700.json', '20240430122700.json', '20240502192700.json', '20240502182700.json', '20240515172700.json', '20240430192700.json', '20240326212700.json', '20240423202700.json']\n",
      "['20240326212700.json', '20240422082700.json', '20240423202700.json', '20240424002700.json', '20240426042700.json', '20240430122700.json', '20240430192700.json', '20240501022700.json', '20240501062700.json', '20240502172700.json', '20240502182700.json', '20240502192700.json', '20240503142700.json', '20240503152700.json', '20240503162700.json', '20240503192700.json', '20240503202700.json', '20240506182700.json', '20240515172700.json']\n"
     ]
    }
   ],
   "source": [
    "gossip = []\n",
    "\n",
    "data_dir = \"json_files/\"\n",
    "\n",
    "files = os.listdir(data_dir)\n",
    "\n",
    "print(files)\n",
    "\n",
    "files.sort()\n",
    "\n",
    "print(files)"
   ]
  },
  {
   "cell_type": "code",
   "execution_count": 5,
   "metadata": {},
   "outputs": [
    {
     "name": "stdout",
     "output_type": "stream",
     "text": [
      "Comparing: 20240326212700.json with 20240422082700.json\n",
      "Comparing: 20240422082700.json with 20240423202700.json\n",
      "Comparing: 20240423202700.json with 20240424002700.json\n",
      "Comparing: 20240424002700.json with 20240426042700.json\n",
      "Comparing: 20240426042700.json with 20240430122700.json\n",
      "Comparing: 20240430122700.json with 20240430192700.json\n",
      "Comparing: 20240430192700.json with 20240501022700.json\n",
      "Comparing: 20240501022700.json with 20240501062700.json\n",
      "Comparing: 20240501062700.json with 20240502172700.json\n",
      "Comparing: 20240502172700.json with 20240502182700.json\n",
      "Comparing: 20240502182700.json with 20240502192700.json\n",
      "Comparing: 20240502192700.json with 20240503142700.json\n",
      "Comparing: 20240503142700.json with 20240503152700.json\n",
      "Comparing: 20240503152700.json with 20240503162700.json\n",
      "Comparing: 20240503162700.json with 20240503192700.json\n",
      "Comparing: 20240503192700.json with 20240503202700.json\n",
      "Comparing: 20240503202700.json with 20240506182700.json\n",
      "Comparing: 20240506182700.json with 20240515172700.json\n"
     ]
    }
   ],
   "source": [
    "count = 0\n",
    "\n",
    "for file in files:\n",
    "\n",
    "    if count == 0:\n",
    "        previous_file = file\n",
    "        count = count + 1\n",
    "    else:\n",
    "        \n",
    "        print(\"Comparing: \" + previous_file + \" with \" + file)\n",
    "\n",
    "        prev_version = previous_file.split(\".\")[0]\n",
    "        curr_version = file.split(\".\")[0]\n",
    "\n",
    "        if curr_version < prev_version:\n",
    "            print(\"Current version is less than previous version. Exiting.\")\n",
    "            exit()\n",
    "\n",
    "        with open(data_dir + file, \"r\") as x:\n",
    "            current_data = json.load(x)\n",
    "\n",
    "        with open(data_dir + previous_file, \"r\") as y:\n",
    "            previous_data = json.load(y)\n",
    "\n",
    "        current = current_data['prices']\n",
    "        previous = previous_data['prices']\n",
    "\n",
    "        current_service_ids = []\n",
    "        for service in current:\n",
    "            current_service_ids.append(service['id'])\n",
    "\n",
    "        previous_service_ids = []\n",
    "        for service in previous:\n",
    "            previous_service_ids.append(service['id'])\n",
    "\n",
    "        i = 0\n",
    "        affected_regions = []\n",
    "\n",
    "        for service in current_service_ids:\n",
    "            if service not in previous_service_ids:\n",
    "                i = i + 1\n",
    "                for current_service_data in current:\n",
    "                    if current_service_data['id'] == service:\n",
    "                        service_name = current_service_data['attributes']['aws:serviceName']\n",
    "                        region_name = current_service_data['attributes']['aws:region']\n",
    "                        affected_regions = affected_regions + [region_name]\n",
    "                        break\n",
    "\n",
    "                timestamp = datetime.strptime(file.split(\".\")[0], '%Y%m%d%H%M%S')\n",
    "\n",
    "                gossip.append({\n",
    "                    \"push_msg\": \"%s has been added to region %s\" % (service_name, region_name),\n",
    "                    \"timestamp\": timestamp.isoformat(),\n",
    "                    \"version\": file.split(\".\")[0]\n",
    "                })\n",
    "        previous_file = file\n",
    "        count = count + 1\n"
   ]
  },
  {
   "cell_type": "code",
   "execution_count": 6,
   "metadata": {},
   "outputs": [
    {
     "data": {
      "text/plain": [
       "'[{\"push_msg\": \"AWS Elemental MediaLive has been added to region me-central-1\", \"timestamp\": \"2024-04-22T08:27:00\", \"version\": \"20240422082700\"}, {\"push_msg\": \"AWS Elemental MediaLive has been added to region ap-south-2\", \"timestamp\": \"2024-04-22T08:27:00\", \"version\": \"20240422082700\"}, {\"push_msg\": \"AWS License Manager has been added to region ca-west-1\", \"timestamp\": \"2024-04-22T08:27:00\", \"version\": \"20240422082700\"}, {\"push_msg\": \"AWS Resource Explorer has been added to region ap-east-1\", \"timestamp\": \"2024-04-22T08:27:00\", \"version\": \"20240422082700\"}, {\"push_msg\": \"AWS Resource Explorer has been added to region ap-south-2\", \"timestamp\": \"2024-04-22T08:27:00\", \"version\": \"20240422082700\"}, {\"push_msg\": \"AWS Resource Explorer has been added to region ap-southeast-4\", \"timestamp\": \"2024-04-22T08:27:00\", \"version\": \"20240422082700\"}, {\"push_msg\": \"AWS Resource Explorer has been added to region ca-west-1\", \"timestamp\": \"2024-04-22T08:27:00\", \"version\": \"20240422082700\"}, {\"push_msg\": \"AWS Resource Explorer has been added to region eu-south-1\", \"timestamp\": \"2024-04-22T08:27:00\", \"version\": \"20240422082700\"}, {\"push_msg\": \"AWS Resource Explorer has been added to region eu-south-2\", \"timestamp\": \"2024-04-22T08:27:00\", \"version\": \"20240422082700\"}, {\"push_msg\": \"AWS Resource Explorer has been added to region il-central-1\", \"timestamp\": \"2024-04-22T08:27:00\", \"version\": \"20240422082700\"}, {\"push_msg\": \"AWS Resource Explorer has been added to region af-south-1\", \"timestamp\": \"2024-04-22T08:27:00\", \"version\": \"20240422082700\"}, {\"push_msg\": \"AWS Resource Explorer has been added to region eu-central-2\", \"timestamp\": \"2024-04-22T08:27:00\", \"version\": \"20240422082700\"}, {\"push_msg\": \"AWS Resource Explorer has been added to region me-central-1\", \"timestamp\": \"2024-04-22T08:27:00\", \"version\": \"20240422082700\"}, {\"push_msg\": \"Amazon Cognito has been added to region ap-south-2\", \"timestamp\": \"2024-04-22T08:27:00\", \"version\": \"20240422082700\"}, {\"push_msg\": \"Amazon Cognito has been added to region ap-southeast-4\", \"timestamp\": \"2024-04-22T08:27:00\", \"version\": \"20240422082700\"}, {\"push_msg\": \"Amazon Cognito has been added to region eu-south-2\", \"timestamp\": \"2024-04-22T08:27:00\", \"version\": \"20240422082700\"}, {\"push_msg\": \"Amazon Managed Streaming for Apache Kafka has been added to region ca-west-1\", \"timestamp\": \"2024-04-22T08:27:00\", \"version\": \"20240422082700\"}, {\"push_msg\": \"AWS IAM Identity Center has been added to region eu-south-2\", \"timestamp\": \"2024-04-22T08:27:00\", \"version\": \"20240422082700\"}, {\"push_msg\": \"AWS IAM Identity Center has been added to region ap-south-2\", \"timestamp\": \"2024-04-22T08:27:00\", \"version\": \"20240422082700\"}, {\"push_msg\": \"Amazon DynamoDB Accelerator has been added to region ap-northeast-1\", \"timestamp\": \"2024-04-22T08:27:00\", \"version\": \"20240422082700\"}, {\"push_msg\": \"Amazon DynamoDB Accelerator has been added to region ap-southeast-2\", \"timestamp\": \"2024-04-22T08:27:00\", \"version\": \"20240422082700\"}, {\"push_msg\": \"Amazon DynamoDB Accelerator has been added to region cn-north-1\", \"timestamp\": \"2024-04-22T08:27:00\", \"version\": \"20240422082700\"}, {\"push_msg\": \"Amazon DynamoDB Accelerator has been added to region eu-central-1\", \"timestamp\": \"2024-04-22T08:27:00\", \"version\": \"20240422082700\"}, {\"push_msg\": \"Amazon DynamoDB Accelerator has been added to region eu-west-3\", \"timestamp\": \"2024-04-22T08:27:00\", \"version\": \"20240422082700\"}, {\"push_msg\": \"Amazon DynamoDB Accelerator has been added to region sa-east-1\", \"timestamp\": \"2024-04-22T08:27:00\", \"version\": \"20240422082700\"}, {\"push_msg\": \"Amazon DynamoDB Accelerator has been added to region us-east-1\", \"timestamp\": \"2024-04-22T08:27:00\", \"version\": \"20240422082700\"}, {\"push_msg\": \"Amazon DynamoDB Accelerator has been added to region us-east-2\", \"timestamp\": \"2024-04-22T08:27:00\", \"version\": \"20240422082700\"}, {\"push_msg\": \"Amazon DynamoDB Accelerator has been added to region us-west-1\", \"timestamp\": \"2024-04-22T08:27:00\", \"version\": \"20240422082700\"}, {\"push_msg\": \"Amazon DynamoDB Accelerator has been added to region us-west-2\", \"timestamp\": \"2024-04-22T08:27:00\", \"version\": \"20240422082700\"}, {\"push_msg\": \"Amazon DynamoDB Accelerator has been added to region ap-south-1\", \"timestamp\": \"2024-04-22T08:27:00\", \"version\": \"20240422082700\"}, {\"push_msg\": \"Amazon DynamoDB Accelerator has been added to region ap-southeast-1\", \"timestamp\": \"2024-04-22T08:27:00\", \"version\": \"20240422082700\"}, {\"push_msg\": \"Amazon DynamoDB Accelerator has been added to region cn-northwest-1\", \"timestamp\": \"2024-04-22T08:27:00\", \"version\": \"20240422082700\"}, {\"push_msg\": \"Amazon DynamoDB Accelerator has been added to region eu-west-1\", \"timestamp\": \"2024-04-22T08:27:00\", \"version\": \"20240422082700\"}, {\"push_msg\": \"Amazon DynamoDB Accelerator has been added to region eu-west-2\", \"timestamp\": \"2024-04-22T08:27:00\", \"version\": \"20240422082700\"}, {\"push_msg\": \"Amazon Bedrock has been added to region ap-southeast-2\", \"timestamp\": \"2024-04-22T08:27:00\", \"version\": \"20240422082700\"}, {\"push_msg\": \"Amazon Bedrock has been added to region eu-west-3\", \"timestamp\": \"2024-04-22T08:27:00\", \"version\": \"20240422082700\"}, {\"push_msg\": \"AWS Fault Injection Service has been added to region eu-south-2\", \"timestamp\": \"2024-04-22T08:27:00\", \"version\": \"20240422082700\"}, {\"push_msg\": \"Amazon Verified Permissions has been added to region il-central-1\", \"timestamp\": \"2024-04-22T08:27:00\", \"version\": \"20240422082700\"}, {\"push_msg\": \"Amazon Verified Permissions has been added to region ca-west-1\", \"timestamp\": \"2024-04-22T08:27:00\", \"version\": \"20240422082700\"}, {\"push_msg\": \"Amazon Verified Permissions has been added to region us-gov-west-1\", \"timestamp\": \"2024-04-22T08:27:00\", \"version\": \"20240422082700\"}, {\"push_msg\": \"Amazon Verified Permissions has been added to region us-gov-east-1\", \"timestamp\": \"2024-04-22T08:27:00\", \"version\": \"20240422082700\"}, {\"push_msg\": \"AWS Amplify has been added to region ap-northeast-3\", \"timestamp\": \"2024-04-22T08:27:00\", \"version\": \"20240422082700\"}, {\"push_msg\": \"Amazon Simple Email Service (SES) has been added to region us-gov-east-1\", \"timestamp\": \"2024-04-22T08:27:00\", \"version\": \"20240422082700\"}, {\"push_msg\": \"Amazon VPC Lattice has been added to region sa-east-1\", \"timestamp\": \"2024-04-22T08:27:00\", \"version\": \"20240422082700\"}, {\"push_msg\": \"AWS Deadline Cloud has been added to region ap-northeast-1\", \"timestamp\": \"2024-04-22T08:27:00\", \"version\": \"20240422082700\"}, {\"push_msg\": \"AWS Deadline Cloud has been added to region ap-southeast-1\", \"timestamp\": \"2024-04-22T08:27:00\", \"version\": \"20240422082700\"}, {\"push_msg\": \"AWS Deadline Cloud has been added to region ap-southeast-2\", \"timestamp\": \"2024-04-22T08:27:00\", \"version\": \"20240422082700\"}, {\"push_msg\": \"AWS Deadline Cloud has been added to region eu-central-1\", \"timestamp\": \"2024-04-22T08:27:00\", \"version\": \"20240422082700\"}, {\"push_msg\": \"AWS Deadline Cloud has been added to region eu-west-1\", \"timestamp\": \"2024-04-22T08:27:00\", \"version\": \"20240422082700\"}, {\"push_msg\": \"AWS Deadline Cloud has been added to region us-east-1\", \"timestamp\": \"2024-04-22T08:27:00\", \"version\": \"20240422082700\"}, {\"push_msg\": \"AWS Deadline Cloud has been added to region us-east-2\", \"timestamp\": \"2024-04-22T08:27:00\", \"version\": \"20240422082700\"}, {\"push_msg\": \"AWS Deadline Cloud has been added to region us-west-2\", \"timestamp\": \"2024-04-22T08:27:00\", \"version\": \"20240422082700\"}, {\"push_msg\": \"AWS Storage Gateway has been added to region ca-west-1\", \"timestamp\": \"2024-04-22T08:27:00\", \"version\": \"20240422082700\"}, {\"push_msg\": \"AWS Elemental MediaTailor has been added to region me-central-1\", \"timestamp\": \"2024-04-22T08:27:00\", \"version\": \"20240422082700\"}, {\"push_msg\": \"AWS Elemental MediaTailor has been added to region ap-south-2\", \"timestamp\": \"2024-04-22T08:27:00\", \"version\": \"20240422082700\"}, {\"push_msg\": \"Amazon DocumentDB (with MongoDB compatibility) has been added to region me-central-1\", \"timestamp\": \"2024-04-22T08:27:00\", \"version\": \"20240422082700\"}, {\"push_msg\": \"AWS Global Accelerator has been added to region ca-west-1\", \"timestamp\": \"2024-04-23T20:27:00\", \"version\": \"20240423202700\"}, {\"push_msg\": \"AWS Budgets has been added to region ap-southeast-1\", \"timestamp\": \"2024-04-24T00:27:00\", \"version\": \"20240424002700\"}, {\"push_msg\": \"Amazon Braket has been added to region eu-west-2\", \"timestamp\": \"2024-04-26T04:27:00\", \"version\": \"20240426042700\"}, {\"push_msg\": \"AWS WAF has been added to region ca-west-1\", \"timestamp\": \"2024-04-30T19:27:00\", \"version\": \"20240430192700\"}, {\"push_msg\": \"Amazon Bedrock has been added to region eu-west-1\", \"timestamp\": \"2024-05-01T02:27:00\", \"version\": \"20240501022700\"}, {\"push_msg\": \"Amazon Bedrock has been added to region ap-south-1\", \"timestamp\": \"2024-05-01T06:27:00\", \"version\": \"20240501062700\"}, {\"push_msg\": \"AWS IoT FleetWise has been added to region eu-central-1\", \"timestamp\": \"2024-05-02T17:27:00\", \"version\": \"20240502172700\"}, {\"push_msg\": \"AWS IoT FleetWise has been added to region us-east-1\", \"timestamp\": \"2024-05-02T17:27:00\", \"version\": \"20240502172700\"}, {\"push_msg\": \"AWS Transfer Family has been added to region ca-west-1\", \"timestamp\": \"2024-05-02T18:27:00\", \"version\": \"20240502182700\"}, {\"push_msg\": \"AWS Snowball has been added to region il-central-1\", \"timestamp\": \"2024-05-02T19:27:00\", \"version\": \"20240502192700\"}, {\"push_msg\": \"Amazon FSx has been added to region ca-west-1\", \"timestamp\": \"2024-05-03T14:27:00\", \"version\": \"20240503142700\"}, {\"push_msg\": \"Amazon FSx for Lustre has been added to region ca-west-1\", \"timestamp\": \"2024-05-03T15:27:00\", \"version\": \"20240503152700\"}, {\"push_msg\": \"Amazon FSx for OpenZFS has been added to region ca-west-1\", \"timestamp\": \"2024-05-03T15:27:00\", \"version\": \"20240503152700\"}, {\"push_msg\": \"Amazon FSx for Windows File Server has been added to region ca-west-1\", \"timestamp\": \"2024-05-03T15:27:00\", \"version\": \"20240503152700\"}, {\"push_msg\": \"AWS Control Tower has been added to region ca-west-1\", \"timestamp\": \"2024-05-03T16:27:00\", \"version\": \"20240503162700\"}, {\"push_msg\": \"Amazon FSx for NetApp ONTAP has been added to region ca-west-1\", \"timestamp\": \"2024-05-03T19:27:00\", \"version\": \"20240503192700\"}, {\"push_msg\": \"AWS Firewall Manager has been added to region ca-west-1\", \"timestamp\": \"2024-05-03T20:27:00\", \"version\": \"20240503202700\"}, {\"push_msg\": \"AWS Shield has been added to region ca-west-1\", \"timestamp\": \"2024-05-06T18:27:00\", \"version\": \"20240506182700\"}, {\"push_msg\": \"Amazon VPC Lattice has been added to region ap-northeast-2\", \"timestamp\": \"2024-05-15T17:27:00\", \"version\": \"20240515172700\"}, {\"push_msg\": \"Amazon VPC Lattice has been added to region ap-south-1\", \"timestamp\": \"2024-05-15T17:27:00\", \"version\": \"20240515172700\"}]'"
      ]
     },
     "execution_count": 6,
     "metadata": {},
     "output_type": "execute_result"
    }
   ],
   "source": [
    "json.dumps(gossip)"
   ]
  },
  {
   "cell_type": "code",
   "execution_count": null,
   "metadata": {},
   "outputs": [],
   "source": []
  }
 ],
 "metadata": {
  "kernelspec": {
   "display_name": "Python 3",
   "language": "python",
   "name": "python3"
  },
  "language_info": {
   "codemirror_mode": {
    "name": "ipython",
    "version": 3
   },
   "file_extension": ".py",
   "mimetype": "text/x-python",
   "name": "python",
   "nbconvert_exporter": "python",
   "pygments_lexer": "ipython3",
   "version": "3.11.6"
  }
 },
 "nbformat": 4,
 "nbformat_minor": 2
}
