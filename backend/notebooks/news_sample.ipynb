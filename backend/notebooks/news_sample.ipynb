{
 "cells": [
  {
   "cell_type": "code",
   "execution_count": 1,
   "metadata": {},
   "outputs": [],
   "source": [
    "import os"
   ]
  },
  {
   "cell_type": "code",
   "execution_count": 2,
   "metadata": {},
   "outputs": [],
   "source": [
    "sample_payload = [\n",
    "    {\n",
    "        'service': 'appstream',\n",
    "        'regions': [ 'ap-southeast-2', 'us-east-1' ]\n",
    "    },\n",
    "    {\n",
    "        'service': 'ec2',\n",
    "        'regions': [ 'ap-southeast-2', 'us-east-1' ]\n",
    "    },\n",
    "    {\n",
    "        'service': 'bedrock',\n",
    "        'regions': [ 'ap-southeast-2', 'us-east-1' ]\n",
    "    },\n",
    "    {\n",
    "        'service': 'outlook',\n",
    "        'regions': [ 'ap-southeast-3', 'us-west-2' ]\n",
    "    }\n",
    "]"
   ]
  },
  {
   "cell_type": "code",
   "execution_count": 3,
   "metadata": {},
   "outputs": [],
   "source": [
    "def find_service_regions(service_name, payload):\n",
    "    for entry in payload:\n",
    "        if entry['service'] == service_name:\n",
    "            return entry['regions']\n",
    "    return None"
   ]
  },
  {
   "cell_type": "code",
   "execution_count": 4,
   "metadata": {},
   "outputs": [],
   "source": [
    "def append_region_to_service(service_name, new_region, payload):\n",
    "    for entry in payload:\n",
    "        if entry['service'] == service_name:\n",
    "            if new_region not in entry['regions']:\n",
    "                entry['regions'].append(new_region)\n",
    "            return entry\n",
    "    return None"
   ]
  },
  {
   "cell_type": "code",
   "execution_count": 13,
   "metadata": {},
   "outputs": [
    {
     "name": "stdout",
     "output_type": "stream",
     "text": [
      "None\n"
     ]
    }
   ],
   "source": [
    "# Example usage\n",
    "service_name = 'iot'\n",
    "region = 'us-west-2'\n",
    "\n",
    "regions = find_service_regions(service_name, sample_payload)\n",
    "print(regions)\n"
   ]
  },
  {
   "cell_type": "code",
   "execution_count": 14,
   "metadata": {},
   "outputs": [],
   "source": [
    "if regions:\n",
    "    if region in regions:\n",
    "        print(\"The service is already available in the region \" + region)\n",
    "    else:\n",
    "        append_region_to_service(service_name, region, sample_payload)\n",
    "\n",
    "    print(f\"The regions for the service '{service_name}' are: {regions}\")\n",
    "else:\n",
    "    sample_payload.append({'service': service_name, 'regions' : [ region ]})"
   ]
  },
  {
   "cell_type": "code",
   "execution_count": 15,
   "metadata": {},
   "outputs": [
    {
     "name": "stdout",
     "output_type": "stream",
     "text": [
      "[{'service': 'appstream', 'regions': ['ap-southeast-2', 'us-east-1']}, {'service': 'ec2', 'regions': ['ap-southeast-2', 'us-east-1']}, {'service': 'bedrock', 'regions': ['ap-southeast-2', 'us-east-1', 'us-west-2']}, {'service': 'outlook', 'regions': ['ap-southeast-3', 'us-west-2']}, {'service': 'iot', 'regions': ['us-west-2']}]\n"
     ]
    }
   ],
   "source": [
    "print(sample_payload)"
   ]
  },
  {
   "cell_type": "code",
   "execution_count": 16,
   "metadata": {},
   "outputs": [
    {
     "name": "stdout",
     "output_type": "stream",
     "text": [
      "The service 'AWSIoTAnalytics' was not found in the payload.\n"
     ]
    }
   ],
   "source": [
    "# Example usage\n",
    "service_name = 'AWSIoTAnalytics'\n",
    "\n",
    "regions = find_service_regions(service_name, sample_payload)\n",
    "if regions:\n",
    "    print(f\"The regions for the service '{service_name}' are: {regions}\")\n",
    "else:\n",
    "    print(f\"The service '{service_name}' was not found in the payload.\")"
   ]
  },
  {
   "cell_type": "code",
   "execution_count": 17,
   "metadata": {},
   "outputs": [
    {
     "name": "stdout",
     "output_type": "stream",
     "text": [
      "[{'service': 'appstream', 'regions': ['ap-southeast-2', 'us-east-1']}, {'service': 'ec2', 'regions': ['ap-southeast-2', 'us-east-1']}, {'service': 'bedrock', 'regions': ['ap-southeast-2', 'us-east-1', 'us-west-2']}, {'service': 'outlook', 'regions': ['ap-southeast-3', 'us-west-2']}, {'service': 'iot', 'regions': ['us-west-2']}]\n"
     ]
    }
   ],
   "source": [
    "print(sample_payload)"
   ]
  },
  {
   "cell_type": "code",
   "execution_count": 19,
   "metadata": {},
   "outputs": [
    {
     "name": "stdout",
     "output_type": "stream",
     "text": [
      "appstream has been added to region(s) ap-southeast-2, us-east-1, \n",
      "ec2 has been added to region(s) ap-southeast-2, us-east-1, \n",
      "bedrock has been added to region(s) ap-southeast-2, us-east-1, us-west-2, \n",
      "outlook has been added to region(s) ap-southeast-3, us-west-2, \n",
      "iot has been added to region(s) us-west-2, \n"
     ]
    }
   ],
   "source": [
    "for sample in sample_payload:\n",
    "    payload = sample['service'] + \" has been added to region(s) \"\n",
    "    for region in sample['regions']:\n",
    "        payload += region + \", \"\n",
    "    \n",
    "    print(payload)"
   ]
  },
  {
   "cell_type": "code",
   "execution_count": 20,
   "metadata": {},
   "outputs": [],
   "source": [
    "from datetime import datetime"
   ]
  },
  {
   "cell_type": "code",
   "execution_count": 31,
   "metadata": {},
   "outputs": [
    {
     "name": "stdout",
     "output_type": "stream",
     "text": [
      "2024-05-16T20:57:31\n"
     ]
    }
   ],
   "source": [
    "# Get the current datetime\n",
    "now = datetime.now()\n",
    "\n",
    "# Format the datetime as a string\n",
    "date_string = now.strftime('%Y-%m-%dT%H:%M:%S')\n",
    "\n",
    "# Print the result\n",
    "print(date_string)\n"
   ]
  },
  {
   "cell_type": "code",
   "execution_count": null,
   "metadata": {},
   "outputs": [],
   "source": []
  }
 ],
 "metadata": {
  "kernelspec": {
   "display_name": "Python 3",
   "language": "python",
   "name": "python3"
  },
  "language_info": {
   "codemirror_mode": {
    "name": "ipython",
    "version": 3
   },
   "file_extension": ".py",
   "mimetype": "text/x-python",
   "name": "python",
   "nbconvert_exporter": "python",
   "pygments_lexer": "ipython3",
   "version": "3.11.6"
  }
 },
 "nbformat": 4,
 "nbformat_minor": 2
}
