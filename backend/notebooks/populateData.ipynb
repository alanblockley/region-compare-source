{
 "cells": [
  {
   "cell_type": "code",
   "execution_count": 1,
   "metadata": {},
   "outputs": [],
   "source": [
    "import os\n",
    "import csv\n",
    "import json\n",
    "import boto3"
   ]
  },
  {
   "cell_type": "code",
   "execution_count": 2,
   "metadata": {},
   "outputs": [],
   "source": [
    "# Function to accept a file and upload the CSV content as a DynamoDB table\n",
    "def upload_csv_to_dynamodb(file_path, table_name):\n",
    "    # Read the CSV file\n",
    "    with open(file_path, 'r') as file:\n",
    "        csv_data = file.read()\n",
    "\n",
    "    # Convert the CSV data to a list of dictionaries\n",
    "    csv_dict_list = csv.DictReader(csv_data.splitlines())\n",
    "\n",
    "    # Create a DynamoDB client\n",
    "    dynamodb = boto3.resource('dynamodb')\n",
    "\n",
    "    # Get the DynamoDB table\n",
    "    table = dynamodb.Table(table_name)\n",
    "\n",
    "    # Upload the data to the DynamoDB table\n",
    "    with table.batch_writer() as batch:\n",
    "        for item in csv_dict_list:\n",
    "            batch.put_item(Item=item)\n",
    "\n",
    "    print(f\"CSV data uploaded to DynamoDB table {table_name}\")"
   ]
  },
  {
   "cell_type": "code",
   "execution_count": 3,
   "metadata": {},
   "outputs": [
    {
     "name": "stdout",
     "output_type": "stream",
     "text": [
      "CSV data uploaded to DynamoDB table dbla-dev-region-compare-RegionDataTable-1PAOD24R10LT2\n"
     ]
    }
   ],
   "source": [
    "upload_csv_to_dynamodb('./RegionDataTable.csv', 'dbla-dev-region-compare-RegionDataTable-1PAOD24R10LT2' )"
   ]
  },
  {
   "cell_type": "code",
   "execution_count": 4,
   "metadata": {},
   "outputs": [
    {
     "name": "stdout",
     "output_type": "stream",
     "text": [
      "CSV data uploaded to DynamoDB table dbla-dev-region-compare-ServiceNewsTable-KP5WFNMZZ9HP\n"
     ]
    }
   ],
   "source": [
    "upload_csv_to_dynamodb('./ServiceNewsTable.csv', 'dbla-dev-region-compare-ServiceNewsTable-KP5WFNMZZ9HP')"
   ]
  },
  {
   "cell_type": "code",
   "execution_count": null,
   "metadata": {},
   "outputs": [],
   "source": []
  }
 ],
 "metadata": {
  "kernelspec": {
   "display_name": "Python 3",
   "language": "python",
   "name": "python3"
  },
  "language_info": {
   "codemirror_mode": {
    "name": "ipython",
    "version": 3
   },
   "file_extension": ".py",
   "mimetype": "text/x-python",
   "name": "python",
   "nbconvert_exporter": "python",
   "pygments_lexer": "ipython3",
   "version": "3.11.6"
  }
 },
 "nbformat": 4,
 "nbformat_minor": 2
}
