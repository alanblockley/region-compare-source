{
 "cells": [
  {
   "cell_type": "code",
   "execution_count": 1,
   "metadata": {},
   "outputs": [
    {
     "name": "stdout",
     "output_type": "stream",
     "text": [
      "Data inserted successfully\n"
     ]
    }
   ],
   "source": [
    "import boto3\n",
    "from botocore.config import Config\n",
    "\n",
    "region_config = Config(\n",
    "    region_name='ap-southeast-2'\n",
    ")\n",
    "\n",
    "# Initialize the DynamoDB resource\n",
    "dynamodb = boto3.resource('dynamodb', config=region_config)\n",
    "\n",
    "# Specify the table name\n",
    "table_name = 'dbla-prod-region-compare-RegionDataTable-K6M61T7FBQI6'\n",
    "table = dynamodb.Table(table_name)\n",
    "\n",
    "# Define the data\n",
    "regions_data = [\n",
    "    {\"id\": \"us-west-2\", \"continent\": \"US West\", \"name\": \"Oregon\"},\n",
    "    {\"id\": \"il-central-1\", \"continent\": \"Israel\", \"name\": \"Tel Aviv\"},\n",
    "    {\"id\": \"ap-south-1\", \"continent\": \"Asia Pacific\", \"name\": \"Mumbai\"},\n",
    "    {\"id\": \"eu-north-1\", \"continent\": \"Europe\", \"name\": \"Stockholm\"},\n",
    "    {\"id\": \"us-east-2\", \"continent\": \"US East\", \"name\": \"Ohio\"},\n",
    "    {\"id\": \"us-east-1\", \"continent\": \"US East\", \"name\": \"N. Virginia\"},\n",
    "    {\"id\": \"me-south-1\", \"continent\": \"Middle East\", \"name\": \"Bahrain\"},\n",
    "    {\"id\": \"ap-east-1\", \"continent\": \"Asia Pacific\", \"name\": \"Hong Kong\"},\n",
    "    {\"id\": \"ap-northeast-3\", \"continent\": \"Asia Pacific\", \"name\": \"Osaka\"},\n",
    "    {\"id\": \"eu-south-2\", \"continent\": \"Europe\", \"name\": \"Spain\"},\n",
    "    {\"id\": \"ap-northeast-2\", \"continent\": \"Asia Pacific\", \"name\": \"Seoul\"},\n",
    "    {\"id\": \"us-west-1\", \"continent\": \"US West\", \"name\": \"N. California\"},\n",
    "    {\"id\": \"eu-west-1\", \"continent\": \"Europe\", \"name\": \"Ireland\"},\n",
    "    {\"id\": \"me-central-1\", \"continent\": \"Middle East\", \"name\": \"UAE\"},\n",
    "    {\"id\": \"ap-northeast-1\", \"continent\": \"Asia Pacific\", \"name\": \"Tokyo\"},\n",
    "    {\"id\": \"ap-south-2\", \"continent\": \"Asia Pacific\", \"name\": \"Mumbai\"},\n",
    "    {\"id\": \"ca-west-1\", \"continent\": \"Canada West\", \"name\": \"Calgary\"},\n",
    "    {\"id\": \"sa-east-1\", \"continent\": \"South America\", \"name\": \"São Paulo\"},\n",
    "    {\"id\": \"ap-southeast-1\", \"continent\": \"Asia Pacific\", \"name\": \"Singapore\"},\n",
    "    {\"id\": \"eu-south-1\", \"continent\": \"Europe\", \"name\": \"Milan\"},\n",
    "    {\"id\": \"ap-southeast-2\", \"continent\": \"Asia Pacific\", \"name\": \"Sydney\"},\n",
    "    {\"id\": \"eu-west-2\", \"continent\": \"Europe\", \"name\": \"London\"},\n",
    "    {\"id\": \"eu-west-3\", \"continent\": \"Europe\", \"name\": \"Paris\"},\n",
    "    {\"id\": \"eu-central-1\", \"continent\": \"Europe\", \"name\": \"Frankfurt\"},\n",
    "    {\"id\": \"eu-central-2\", \"continent\": \"Europe\", \"name\": \"Zurich\"},\n",
    "    {\"id\": \"ap-southeast-4\", \"continent\": \"Asia Pacific\", \"name\": \"Melbourne\"},\n",
    "    {\"id\": \"ca-central-1\", \"continent\": \"Canada\", \"name\": \"Central\"},\n",
    "    {\"id\": \"af-south-1\", \"continent\": \"Africa\", \"name\": \"Cape Town\"},\n",
    "    {\"id\": \"ap-southeast-3\", \"continent\": \"Asia Pacific\", \"name\": \"Jakarta\"}\n",
    "]\n",
    "\n",
    "# Function to batch write items to DynamoDB\n",
    "def batch_write_items(table, items):\n",
    "    with table.batch_writer() as batch:\n",
    "        for item in items:\n",
    "            batch.put_item(Item=item)\n",
    "\n",
    "# Insert the data\n",
    "batch_write_items(table, regions_data)\n",
    "\n",
    "print(\"Data inserted successfully\")\n"
   ]
  },
  {
   "cell_type": "code",
   "execution_count": null,
   "metadata": {},
   "outputs": [],
   "source": []
  }
 ],
 "metadata": {
  "kernelspec": {
   "display_name": "Python 3",
   "language": "python",
   "name": "python3"
  },
  "language_info": {
   "codemirror_mode": {
    "name": "ipython",
    "version": 3
   },
   "file_extension": ".py",
   "mimetype": "text/x-python",
   "name": "python",
   "nbconvert_exporter": "python",
   "pygments_lexer": "ipython3",
   "version": "3.11.6"
  }
 },
 "nbformat": 4,
 "nbformat_minor": 2
}
