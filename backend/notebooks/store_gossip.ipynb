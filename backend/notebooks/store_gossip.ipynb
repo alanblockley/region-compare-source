{
 "cells": [
  {
   "cell_type": "code",
   "execution_count": 12,
   "metadata": {},
   "outputs": [],
   "source": [
    "import json\n",
    "import boto3\n",
    "import requests\n",
    "import datetime"
   ]
  },
  {
   "cell_type": "code",
   "execution_count": 13,
   "metadata": {},
   "outputs": [],
   "source": [
    "CURRENT_VERSION_PARAMETER = \"/regional-services/current_version\"\n",
    "PREVIOUS_VERSION_PARAMETER = \"/regional-services/previous_version\"\n",
    "CURRENT_SERVICES_BUCKET = \"dbla-prod-region-compare-bucket-4b3jodtvv3ce\"\n",
    "JSON_URL = \"https://api.regional-table.region-services.aws.a2z.com/index.json\""
   ]
  },
  {
   "cell_type": "code",
   "execution_count": 14,
   "metadata": {},
   "outputs": [],
   "source": [
    "s3 = boto3.client('s3')"
   ]
  },
  {
   "cell_type": "code",
   "execution_count": 24,
   "metadata": {},
   "outputs": [],
   "source": [
    "def get_gossip():\n",
    "    # Get the current version of S3 object, gossip.json\n",
    "    try:\n",
    "        res = s3.get_object(\n",
    "            Bucket=CURRENT_SERVICES_BUCKET,\n",
    "            Key='service_gossip/gossip.json'\n",
    "        )\n",
    "    except Exception as e:\n",
    "        print(e)\n",
    "        raise e\n",
    "    else:\n",
    "        data = res['Body'].read().decode('utf-8')\n",
    "\n",
    "    return data"
   ]
  },
  {
   "cell_type": "code",
   "execution_count": 25,
   "metadata": {},
   "outputs": [],
   "source": [
    "data = get_gossip()"
   ]
  },
  {
   "cell_type": "code",
   "execution_count": 28,
   "metadata": {},
   "outputs": [
    {
     "name": "stdout",
     "output_type": "stream",
     "text": [
      "[\n",
      "    {\"push_msg\": \"1 AWS Services were added across 1 regions\", \"timestamp\": \"2024-05-08T17:44:57.873234\", \"version\": \"20240506182700\"},\n",
      "    {\"push_msg\": \"This is a test message\", \"timestamp\": \"2024-05-09T08:52:49.668052\", \"version\": \"20240506182700\"},\n",
      "    {\"push_msg\": \"This is a test message\", \"timestamp\": \"2024-05-09T08:52:51.930664\", \"version\": \"20240506182700\"},\n",
      "    {\"push_msg\": \"This is a test message\", \"timestamp\": \"2024-05-09T08:52:53.853251\", \"version\": \"20240506182700\"},\n",
      "    {\"push_msg\": \"This is a test message\", \"timestamp\": \"2024-05-09T08:52:55.332606\", \"version\": \"20240506182700\"}\n",
      "]\n"
     ]
    }
   ],
   "source": [
    "print(data)\n",
    "json_data = json.loads(data)\n"
   ]
  },
  {
   "cell_type": "code",
   "execution_count": 30,
   "metadata": {},
   "outputs": [],
   "source": [
    "new_data = [{ \"push_msg\": \"test message\", \"timestamp\": datetime.datetime.now().isoformat(), \"version\": \"0.1.1\" }]"
   ]
  },
  {
   "cell_type": "code",
   "execution_count": 31,
   "metadata": {},
   "outputs": [],
   "source": [
    "json_data.append(new_data)"
   ]
  },
  {
   "cell_type": "code",
   "execution_count": 77,
   "metadata": {},
   "outputs": [],
   "source": [
    "def store_gossip(push_msg, version, current_gossip):\n",
    "\n",
    "    try:\n",
    "        s3.put_object(\n",
    "            Body=json_data,\n",
    "            Bucket=CURRENT_SERVICES_BUCKET,\n",
    "            Key='service_gossip/gossip.json'\n",
    "        )\n",
    "    except Exception as e:\n",
    "        print(e)\n",
    "        raise e\n",
    "    else:\n",
    "        return True"
   ]
  },
  {
   "cell_type": "code",
   "execution_count": 78,
   "metadata": {},
   "outputs": [],
   "source": [
    "def get_data():\n",
    "    response = requests.get(JSON_URL)\n",
    "    data = response.json()\n",
    "    return data"
   ]
  },
  {
   "cell_type": "code",
   "execution_count": 79,
   "metadata": {},
   "outputs": [],
   "source": [
    "current_data = get_data()"
   ]
  },
  {
   "cell_type": "code",
   "execution_count": 80,
   "metadata": {},
   "outputs": [
    {
     "name": "stdout",
     "output_type": "stream",
     "text": [
      "{\"push_msg\": \"1 AWS Services were added across 1 regions\", \"timestamp\": \"2024-05-08T17:44:57.873234\", \"version\": \"20240506182700\"},\n",
      "{\"push_msg\": \"This is a test message\", \"timestamp\": \"2024-05-09T08:52:49.668052\", \"version\": \"20240506182700\"},\n",
      "{\"push_msg\": \"This is a test message\", \"timestamp\": \"2024-05-09T08:52:51.930664\", \"version\": \"20240506182700\"},\n",
      "{\"push_msg\": \"This is a test message\", \"timestamp\": \"2024-05-09T08:52:53.853251\", \"version\": \"20240506182700\"}\n",
      "<class 'str'>\n"
     ]
    }
   ],
   "source": [
    "current_gossip = get_gossip()\n",
    "print(current_gossip)\n",
    "print(type(current_gossip))"
   ]
  },
  {
   "cell_type": "code",
   "execution_count": 81,
   "metadata": {},
   "outputs": [
    {
     "name": "stdout",
     "output_type": "stream",
     "text": [
      "<class 'str'>\n",
      "{\"push_msg\": \"1 AWS Services were added across 1 regions\", \"timestamp\": \"2024-05-08T17:44:57.873234\", \"version\": \"20240506182700\"},\n",
      "{\"push_msg\": \"This is a test message\", \"timestamp\": \"2024-05-09T08:52:49.668052\", \"version\": \"20240506182700\"},\n",
      "{\"push_msg\": \"This is a test message\", \"timestamp\": \"2024-05-09T08:52:51.930664\", \"version\": \"20240506182700\"},\n",
      "{\"push_msg\": \"This is a test message\", \"timestamp\": \"2024-05-09T08:52:53.853251\", \"version\": \"20240506182700\"},\n",
      "{\"push_msg\": \"This is a test message\", \"timestamp\": \"2024-05-09T08:52:55.332606\", \"version\": \"20240506182700\"}\n"
     ]
    },
    {
     "data": {
      "text/plain": [
       "True"
      ]
     },
     "execution_count": 81,
     "metadata": {},
     "output_type": "execute_result"
    }
   ],
   "source": [
    "store_gossip(\"This is a test message\", current_data['metadata']['source:version'], current_gossip)"
   ]
  },
  {
   "cell_type": "code",
   "execution_count": null,
   "metadata": {},
   "outputs": [],
   "source": []
  }
 ],
 "metadata": {
  "kernelspec": {
   "display_name": "Python 3",
   "language": "python",
   "name": "python3"
  },
  "language_info": {
   "codemirror_mode": {
    "name": "ipython",
    "version": 3
   },
   "file_extension": ".py",
   "mimetype": "text/x-python",
   "name": "python",
   "nbconvert_exporter": "python",
   "pygments_lexer": "ipython3",
   "version": "3.11.6"
  }
 },
 "nbformat": 4,
 "nbformat_minor": 2
}
